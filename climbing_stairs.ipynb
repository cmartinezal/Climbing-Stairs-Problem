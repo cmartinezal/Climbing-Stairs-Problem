{
 "cells": [
  {
   "attachments": {},
   "cell_type": "markdown",
   "metadata": {},
   "source": [
    "## Recursive solution\n",
    "\n",
    "This is a dynamic programming problem that can be solved optimally by breaking it into sub-problems and then recursively finding the optimal solutions to the sub-problems.\n",
    "\n",
    "The solution of this problem resembles the fibonacci series and can be described using the mathematical equation F(n) = F(n−1) + F(n−2) with the condition of F(1) = 1 and F(2) = 2 in this particular case.\n",
    "\n",
    "The sum of the previous two numbers in the sequence is the next number of the sequence."
   ]
  },
  {
   "cell_type": "code",
   "execution_count": 33,
   "metadata": {},
   "outputs": [
    {
     "name": "stdout",
     "output_type": "stream",
     "text": [
      "Tests:\n",
      "Input: 2\n",
      "Output: 2\n",
      "\n",
      "Input: 3\n",
      "Output: 3\n",
      "\n",
      "Input: 4\n",
      "Output: 5\n",
      "\n",
      "Input: 5\n",
      "Output: 8\n",
      "\n",
      "Input: 6\n",
      "Output: 13\n",
      "\n"
     ]
    }
   ],
   "source": [
    "#Recursive Solution\n",
    "class Solution:\n",
    "    def climbing_stairs(self, n: int) -> int:\n",
    "        return n if n <= 2 else self.climbing_stairs(n-1) + self.climbing_stairs(n-2)\n",
    "\n",
    "    def run_test(self, input, expected_output):\n",
    "        print(f'Input: {input}')\n",
    "        output = self.climbing_stairs(input)\n",
    "        print(f'Output: {output}')\n",
    "        assert output == expected_output, f'Output: {output}, Expected output: {expected_output}'\n",
    "        print()\n",
    "\n",
    "# Tests\n",
    "solution = Solution()\n",
    "print('Tests:')\n",
    "solution.run_test(2, 2)\n",
    "solution.run_test(3, 3)\n",
    "solution.run_test(4, 5)\n",
    "solution.run_test(5, 8)\n",
    "solution.run_test(6, 13)"
   ]
  },
  {
   "attachments": {},
   "cell_type": "markdown",
   "metadata": {},
   "source": [
    "### Time Complexity\n",
    "The time complexity of the above code is T(2^N), and hence, the time complexity is exponential.\n",
    "\n",
    "### Space Complexity\n",
    "The Space complexity of the above code is O(N) for the recursive series.\n",
    "\n",
    "\n",
    "## Iterative solution\n",
    "Although the recursive solution is more intuitive for this problem, we can implement a more optimal solution in an iterative way."
   ]
  },
  {
   "cell_type": "code",
   "execution_count": 34,
   "metadata": {},
   "outputs": [
    {
     "name": "stdout",
     "output_type": "stream",
     "text": [
      "Tests:\n",
      "Input: 2\n",
      "Output: 2\n",
      "\n",
      "Input: 3\n",
      "Output: 3\n",
      "\n",
      "Input: 4\n",
      "Output: 5\n",
      "\n",
      "Input: 5\n",
      "Output: 8\n",
      "\n",
      "Input: 6\n",
      "Output: 13\n",
      "\n"
     ]
    }
   ],
   "source": [
    "#Iterative Solution\n",
    "class Solution:\n",
    "    def climbing_stairs(self, n: int) -> int:\n",
    "        if n <= 2: \n",
    "            return n\n",
    "\n",
    "        #Initialize pointers\n",
    "        step_prev_2 = 1\n",
    "        step_prev_1 = 2\n",
    "        step_n = 0\n",
    "\n",
    "        for step in range(3, n + 1):\n",
    "            # Calculate current step with 2 previous steps\n",
    "            step_n =  step_prev_1 + step_prev_2\n",
    "            # Update pointers for previous steps\n",
    "            step_prev_2 = step_prev_1\n",
    "            step_prev_1 = step_n\n",
    "        return step_n\n",
    "\n",
    "    def run_test(self, input, expected_output):\n",
    "        print(f'Input: {input}')\n",
    "        output = self.climbing_stairs(input)\n",
    "        print(f'Output: {output}')\n",
    "        assert output == expected_output, f'Output: {output}, Expected output: {expected_output}'\n",
    "        print()\n",
    "\n",
    "# Tests\n",
    "solution = Solution()\n",
    "print('Tests:')\n",
    "solution.run_test(2, 2)\n",
    "solution.run_test(3, 3)\n",
    "solution.run_test(4, 5)\n",
    "solution.run_test(5, 8)\n",
    "solution.run_test(6, 13)"
   ]
  },
  {
   "attachments": {},
   "cell_type": "markdown",
   "metadata": {},
   "source": [
    "## Time Complexity\n",
    "The time complexity of the above code is T(N), and hence, the time complexity is linear in nature.\n",
    "\n",
    "## Space Complexity\n",
    "The Space complexity of the above code is O(1) since we do not require additional space."
   ]
  }
 ],
 "metadata": {
  "kernelspec": {
   "display_name": "Python 3.6.7 64-bit",
   "language": "python",
   "name": "python3"
  },
  "language_info": {
   "codemirror_mode": {
    "name": "ipython",
    "version": 3
   },
   "file_extension": ".py",
   "mimetype": "text/x-python",
   "name": "python",
   "nbconvert_exporter": "python",
   "pygments_lexer": "ipython3",
   "version": "3.6.7"
  },
  "orig_nbformat": 4,
  "vscode": {
   "interpreter": {
    "hash": "aee8b7b246df8f9039afb4144a1f6fd8d2ca17a180786b69acc140d282b71a49"
   }
  }
 },
 "nbformat": 4,
 "nbformat_minor": 2
}
